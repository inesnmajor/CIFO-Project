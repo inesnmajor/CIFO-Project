{
 "cells": [
  {
   "cell_type": "markdown",
   "id": "89b53c72",
   "metadata": {},
   "source": [
    "# Selection Algorithm Analysis"
   ]
  },
  {
   "cell_type": "code",
   "execution_count": 6,
   "id": "bfd496b0",
   "metadata": {},
   "outputs": [],
   "source": [
    "import pandas as pd\n",
    "import plotly.graph_objects as go"
   ]
  },
  {
   "cell_type": "code",
   "execution_count": 7,
   "id": "f2c0660c",
   "metadata": {},
   "outputs": [],
   "source": [
    "data=pd.read_csv('ga_selection_analysis.csv',index_col='Generation')"
   ]
  },
  {
   "cell_type": "code",
   "execution_count": 8,
   "id": "a2200662",
   "metadata": {},
   "outputs": [
    {
     "data": {
      "text/html": [
       "<div>\n",
       "<style scoped>\n",
       "    .dataframe tbody tr th:only-of-type {\n",
       "        vertical-align: middle;\n",
       "    }\n",
       "\n",
       "    .dataframe tbody tr th {\n",
       "        vertical-align: top;\n",
       "    }\n",
       "\n",
       "    .dataframe thead th {\n",
       "        text-align: right;\n",
       "    }\n",
       "</style>\n",
       "<table border=\"1\" class=\"dataframe\">\n",
       "  <thead>\n",
       "    <tr style=\"text-align: right;\">\n",
       "      <th></th>\n",
       "      <th>tournament|positionbased|global_perm|elitism=True</th>\n",
       "      <th>tournament|positionbased|random_swap|elitism=True</th>\n",
       "      <th>tournament|positionbased_2child|random_swap|elitism=True</th>\n",
       "      <th>tournament|blockwise|random_swap|elitism=True</th>\n",
       "      <th>tournament|blockwise_2child|global_perm|elitism=True</th>\n",
       "      <th>tournament|positionbased|between_teams|elitism=True</th>\n",
       "      <th>fitness_proportionate|positionbased|global_perm|elitism=True</th>\n",
       "      <th>fitness_proportionate|positionbased|random_swap|elitism=True</th>\n",
       "      <th>fitness_proportionate|positionbased_2child|random_swap|elitism=True</th>\n",
       "      <th>fitness_proportionate|blockwise|random_swap|elitism=True</th>\n",
       "      <th>fitness_proportionate|blockwise_2child|global_perm|elitism=True</th>\n",
       "      <th>fitness_proportionate|positionbased|between_teams|elitism=True</th>\n",
       "    </tr>\n",
       "    <tr>\n",
       "      <th>Generation</th>\n",
       "      <th></th>\n",
       "      <th></th>\n",
       "      <th></th>\n",
       "      <th></th>\n",
       "      <th></th>\n",
       "      <th></th>\n",
       "      <th></th>\n",
       "      <th></th>\n",
       "      <th></th>\n",
       "      <th></th>\n",
       "      <th></th>\n",
       "      <th></th>\n",
       "    </tr>\n",
       "  </thead>\n",
       "  <tbody>\n",
       "    <tr>\n",
       "      <th>0</th>\n",
       "      <td>0.758856</td>\n",
       "      <td>0.744681</td>\n",
       "      <td>0.751463</td>\n",
       "      <td>0.744681</td>\n",
       "      <td>0.755049</td>\n",
       "      <td>0.766249</td>\n",
       "      <td>0.723483</td>\n",
       "      <td>0.751463</td>\n",
       "      <td>0.751463</td>\n",
       "      <td>0.758856</td>\n",
       "      <td>0.751463</td>\n",
       "      <td>0.748072</td>\n",
       "    </tr>\n",
       "    <tr>\n",
       "      <th>1</th>\n",
       "      <td>0.783079</td>\n",
       "      <td>0.766249</td>\n",
       "      <td>0.774370</td>\n",
       "      <td>0.783079</td>\n",
       "      <td>0.813953</td>\n",
       "      <td>0.802709</td>\n",
       "      <td>0.762442</td>\n",
       "      <td>0.778724</td>\n",
       "      <td>0.778724</td>\n",
       "      <td>0.778724</td>\n",
       "      <td>0.770309</td>\n",
       "      <td>0.783079</td>\n",
       "    </tr>\n",
       "    <tr>\n",
       "      <th>2</th>\n",
       "      <td>0.792894</td>\n",
       "      <td>0.802709</td>\n",
       "      <td>0.797595</td>\n",
       "      <td>0.826476</td>\n",
       "      <td>0.833575</td>\n",
       "      <td>0.813953</td>\n",
       "      <td>0.783079</td>\n",
       "      <td>0.802709</td>\n",
       "      <td>0.787780</td>\n",
       "      <td>0.787780</td>\n",
       "      <td>0.797595</td>\n",
       "      <td>0.787780</td>\n",
       "    </tr>\n",
       "    <tr>\n",
       "      <th>3</th>\n",
       "      <td>0.808331</td>\n",
       "      <td>0.813953</td>\n",
       "      <td>0.802709</td>\n",
       "      <td>0.857193</td>\n",
       "      <td>0.857193</td>\n",
       "      <td>0.826476</td>\n",
       "      <td>0.808331</td>\n",
       "      <td>0.802709</td>\n",
       "      <td>0.792480</td>\n",
       "      <td>0.813953</td>\n",
       "      <td>0.808331</td>\n",
       "      <td>0.797595</td>\n",
       "    </tr>\n",
       "    <tr>\n",
       "      <th>4</th>\n",
       "      <td>0.826476</td>\n",
       "      <td>0.826476</td>\n",
       "      <td>0.813953</td>\n",
       "      <td>0.877215</td>\n",
       "      <td>0.877215</td>\n",
       "      <td>0.826476</td>\n",
       "      <td>0.813953</td>\n",
       "      <td>0.808331</td>\n",
       "      <td>0.802709</td>\n",
       "      <td>0.813953</td>\n",
       "      <td>0.813953</td>\n",
       "      <td>0.802709</td>\n",
       "    </tr>\n",
       "  </tbody>\n",
       "</table>\n",
       "</div>"
      ],
      "text/plain": [
       "            tournament|positionbased|global_perm|elitism=True  \\\n",
       "Generation                                                      \n",
       "0                                                    0.758856   \n",
       "1                                                    0.783079   \n",
       "2                                                    0.792894   \n",
       "3                                                    0.808331   \n",
       "4                                                    0.826476   \n",
       "\n",
       "            tournament|positionbased|random_swap|elitism=True  \\\n",
       "Generation                                                      \n",
       "0                                                    0.744681   \n",
       "1                                                    0.766249   \n",
       "2                                                    0.802709   \n",
       "3                                                    0.813953   \n",
       "4                                                    0.826476   \n",
       "\n",
       "            tournament|positionbased_2child|random_swap|elitism=True  \\\n",
       "Generation                                                             \n",
       "0                                                    0.751463          \n",
       "1                                                    0.774370          \n",
       "2                                                    0.797595          \n",
       "3                                                    0.802709          \n",
       "4                                                    0.813953          \n",
       "\n",
       "            tournament|blockwise|random_swap|elitism=True  \\\n",
       "Generation                                                  \n",
       "0                                                0.744681   \n",
       "1                                                0.783079   \n",
       "2                                                0.826476   \n",
       "3                                                0.857193   \n",
       "4                                                0.877215   \n",
       "\n",
       "            tournament|blockwise_2child|global_perm|elitism=True  \\\n",
       "Generation                                                         \n",
       "0                                                    0.755049      \n",
       "1                                                    0.813953      \n",
       "2                                                    0.833575      \n",
       "3                                                    0.857193      \n",
       "4                                                    0.877215      \n",
       "\n",
       "            tournament|positionbased|between_teams|elitism=True  \\\n",
       "Generation                                                        \n",
       "0                                                    0.766249     \n",
       "1                                                    0.802709     \n",
       "2                                                    0.813953     \n",
       "3                                                    0.826476     \n",
       "4                                                    0.826476     \n",
       "\n",
       "            fitness_proportionate|positionbased|global_perm|elitism=True  \\\n",
       "Generation                                                                 \n",
       "0                                                    0.723483              \n",
       "1                                                    0.762442              \n",
       "2                                                    0.783079              \n",
       "3                                                    0.808331              \n",
       "4                                                    0.813953              \n",
       "\n",
       "            fitness_proportionate|positionbased|random_swap|elitism=True  \\\n",
       "Generation                                                                 \n",
       "0                                                    0.751463              \n",
       "1                                                    0.778724              \n",
       "2                                                    0.802709              \n",
       "3                                                    0.802709              \n",
       "4                                                    0.808331              \n",
       "\n",
       "            fitness_proportionate|positionbased_2child|random_swap|elitism=True  \\\n",
       "Generation                                                                        \n",
       "0                                                    0.751463                     \n",
       "1                                                    0.778724                     \n",
       "2                                                    0.787780                     \n",
       "3                                                    0.792480                     \n",
       "4                                                    0.802709                     \n",
       "\n",
       "            fitness_proportionate|blockwise|random_swap|elitism=True  \\\n",
       "Generation                                                             \n",
       "0                                                    0.758856          \n",
       "1                                                    0.778724          \n",
       "2                                                    0.787780          \n",
       "3                                                    0.813953          \n",
       "4                                                    0.813953          \n",
       "\n",
       "            fitness_proportionate|blockwise_2child|global_perm|elitism=True  \\\n",
       "Generation                                                                    \n",
       "0                                                    0.751463                 \n",
       "1                                                    0.770309                 \n",
       "2                                                    0.797595                 \n",
       "3                                                    0.808331                 \n",
       "4                                                    0.813953                 \n",
       "\n",
       "            fitness_proportionate|positionbased|between_teams|elitism=True  \n",
       "Generation                                                                  \n",
       "0                                                    0.748072               \n",
       "1                                                    0.783079               \n",
       "2                                                    0.787780               \n",
       "3                                                    0.797595               \n",
       "4                                                    0.802709               "
      ]
     },
     "execution_count": 8,
     "metadata": {},
     "output_type": "execute_result"
    }
   ],
   "source": [
    "data.head()"
   ]
  },
  {
   "cell_type": "code",
   "execution_count": 9,
   "id": "44368072",
   "metadata": {},
   "outputs": [
    {
     "data": {
      "text/html": [
       "<div>\n",
       "<style scoped>\n",
       "    .dataframe tbody tr th:only-of-type {\n",
       "        vertical-align: middle;\n",
       "    }\n",
       "\n",
       "    .dataframe tbody tr th {\n",
       "        vertical-align: top;\n",
       "    }\n",
       "\n",
       "    .dataframe thead th {\n",
       "        text-align: right;\n",
       "    }\n",
       "</style>\n",
       "<table border=\"1\" class=\"dataframe\">\n",
       "  <thead>\n",
       "    <tr style=\"text-align: right;\">\n",
       "      <th></th>\n",
       "      <th>tournament|positionbased|global_perm|elitism=True</th>\n",
       "      <th>tournament|positionbased|random_swap|elitism=True</th>\n",
       "      <th>tournament|positionbased_2child|random_swap|elitism=True</th>\n",
       "      <th>tournament|blockwise|random_swap|elitism=True</th>\n",
       "      <th>tournament|blockwise_2child|global_perm|elitism=True</th>\n",
       "      <th>tournament|positionbased|between_teams|elitism=True</th>\n",
       "      <th>fitness_proportionate|positionbased|global_perm|elitism=True</th>\n",
       "      <th>fitness_proportionate|positionbased|random_swap|elitism=True</th>\n",
       "      <th>fitness_proportionate|positionbased_2child|random_swap|elitism=True</th>\n",
       "      <th>fitness_proportionate|blockwise|random_swap|elitism=True</th>\n",
       "      <th>fitness_proportionate|blockwise_2child|global_perm|elitism=True</th>\n",
       "      <th>fitness_proportionate|positionbased|between_teams|elitism=True</th>\n",
       "    </tr>\n",
       "    <tr>\n",
       "      <th>Generation</th>\n",
       "      <th></th>\n",
       "      <th></th>\n",
       "      <th></th>\n",
       "      <th></th>\n",
       "      <th></th>\n",
       "      <th></th>\n",
       "      <th></th>\n",
       "      <th></th>\n",
       "      <th></th>\n",
       "      <th></th>\n",
       "      <th></th>\n",
       "      <th></th>\n",
       "    </tr>\n",
       "  </thead>\n",
       "  <tbody>\n",
       "    <tr>\n",
       "      <th>95</th>\n",
       "      <td>0.90342</td>\n",
       "      <td>0.945946</td>\n",
       "      <td>0.945946</td>\n",
       "      <td>0.945946</td>\n",
       "      <td>0.945946</td>\n",
       "      <td>0.945946</td>\n",
       "      <td>0.90342</td>\n",
       "      <td>0.945946</td>\n",
       "      <td>0.945946</td>\n",
       "      <td>0.945946</td>\n",
       "      <td>0.945946</td>\n",
       "      <td>0.90342</td>\n",
       "    </tr>\n",
       "    <tr>\n",
       "      <th>96</th>\n",
       "      <td>0.90342</td>\n",
       "      <td>0.945946</td>\n",
       "      <td>0.945946</td>\n",
       "      <td>0.945946</td>\n",
       "      <td>0.945946</td>\n",
       "      <td>0.945946</td>\n",
       "      <td>0.90342</td>\n",
       "      <td>0.945946</td>\n",
       "      <td>0.945946</td>\n",
       "      <td>0.945946</td>\n",
       "      <td>0.945946</td>\n",
       "      <td>0.90342</td>\n",
       "    </tr>\n",
       "    <tr>\n",
       "      <th>97</th>\n",
       "      <td>0.90342</td>\n",
       "      <td>0.945946</td>\n",
       "      <td>0.945946</td>\n",
       "      <td>0.945946</td>\n",
       "      <td>0.945946</td>\n",
       "      <td>0.945946</td>\n",
       "      <td>0.90342</td>\n",
       "      <td>0.945946</td>\n",
       "      <td>0.945946</td>\n",
       "      <td>0.945946</td>\n",
       "      <td>0.945946</td>\n",
       "      <td>0.90342</td>\n",
       "    </tr>\n",
       "    <tr>\n",
       "      <th>98</th>\n",
       "      <td>0.90342</td>\n",
       "      <td>0.945946</td>\n",
       "      <td>0.945946</td>\n",
       "      <td>0.945946</td>\n",
       "      <td>0.945946</td>\n",
       "      <td>0.945946</td>\n",
       "      <td>0.90342</td>\n",
       "      <td>0.945946</td>\n",
       "      <td>0.945946</td>\n",
       "      <td>0.945946</td>\n",
       "      <td>0.945946</td>\n",
       "      <td>0.90342</td>\n",
       "    </tr>\n",
       "    <tr>\n",
       "      <th>99</th>\n",
       "      <td>0.90342</td>\n",
       "      <td>0.945946</td>\n",
       "      <td>0.945946</td>\n",
       "      <td>0.945946</td>\n",
       "      <td>0.945946</td>\n",
       "      <td>0.945946</td>\n",
       "      <td>0.90342</td>\n",
       "      <td>0.945946</td>\n",
       "      <td>0.945946</td>\n",
       "      <td>0.945946</td>\n",
       "      <td>0.945946</td>\n",
       "      <td>0.90342</td>\n",
       "    </tr>\n",
       "  </tbody>\n",
       "</table>\n",
       "</div>"
      ],
      "text/plain": [
       "            tournament|positionbased|global_perm|elitism=True  \\\n",
       "Generation                                                      \n",
       "95                                                    0.90342   \n",
       "96                                                    0.90342   \n",
       "97                                                    0.90342   \n",
       "98                                                    0.90342   \n",
       "99                                                    0.90342   \n",
       "\n",
       "            tournament|positionbased|random_swap|elitism=True  \\\n",
       "Generation                                                      \n",
       "95                                                   0.945946   \n",
       "96                                                   0.945946   \n",
       "97                                                   0.945946   \n",
       "98                                                   0.945946   \n",
       "99                                                   0.945946   \n",
       "\n",
       "            tournament|positionbased_2child|random_swap|elitism=True  \\\n",
       "Generation                                                             \n",
       "95                                                   0.945946          \n",
       "96                                                   0.945946          \n",
       "97                                                   0.945946          \n",
       "98                                                   0.945946          \n",
       "99                                                   0.945946          \n",
       "\n",
       "            tournament|blockwise|random_swap|elitism=True  \\\n",
       "Generation                                                  \n",
       "95                                               0.945946   \n",
       "96                                               0.945946   \n",
       "97                                               0.945946   \n",
       "98                                               0.945946   \n",
       "99                                               0.945946   \n",
       "\n",
       "            tournament|blockwise_2child|global_perm|elitism=True  \\\n",
       "Generation                                                         \n",
       "95                                                   0.945946      \n",
       "96                                                   0.945946      \n",
       "97                                                   0.945946      \n",
       "98                                                   0.945946      \n",
       "99                                                   0.945946      \n",
       "\n",
       "            tournament|positionbased|between_teams|elitism=True  \\\n",
       "Generation                                                        \n",
       "95                                                   0.945946     \n",
       "96                                                   0.945946     \n",
       "97                                                   0.945946     \n",
       "98                                                   0.945946     \n",
       "99                                                   0.945946     \n",
       "\n",
       "            fitness_proportionate|positionbased|global_perm|elitism=True  \\\n",
       "Generation                                                                 \n",
       "95                                                    0.90342              \n",
       "96                                                    0.90342              \n",
       "97                                                    0.90342              \n",
       "98                                                    0.90342              \n",
       "99                                                    0.90342              \n",
       "\n",
       "            fitness_proportionate|positionbased|random_swap|elitism=True  \\\n",
       "Generation                                                                 \n",
       "95                                                   0.945946              \n",
       "96                                                   0.945946              \n",
       "97                                                   0.945946              \n",
       "98                                                   0.945946              \n",
       "99                                                   0.945946              \n",
       "\n",
       "            fitness_proportionate|positionbased_2child|random_swap|elitism=True  \\\n",
       "Generation                                                                        \n",
       "95                                                   0.945946                     \n",
       "96                                                   0.945946                     \n",
       "97                                                   0.945946                     \n",
       "98                                                   0.945946                     \n",
       "99                                                   0.945946                     \n",
       "\n",
       "            fitness_proportionate|blockwise|random_swap|elitism=True  \\\n",
       "Generation                                                             \n",
       "95                                                   0.945946          \n",
       "96                                                   0.945946          \n",
       "97                                                   0.945946          \n",
       "98                                                   0.945946          \n",
       "99                                                   0.945946          \n",
       "\n",
       "            fitness_proportionate|blockwise_2child|global_perm|elitism=True  \\\n",
       "Generation                                                                    \n",
       "95                                                   0.945946                 \n",
       "96                                                   0.945946                 \n",
       "97                                                   0.945946                 \n",
       "98                                                   0.945946                 \n",
       "99                                                   0.945946                 \n",
       "\n",
       "            fitness_proportionate|positionbased|between_teams|elitism=True  \n",
       "Generation                                                                  \n",
       "95                                                    0.90342               \n",
       "96                                                    0.90342               \n",
       "97                                                    0.90342               \n",
       "98                                                    0.90342               \n",
       "99                                                    0.90342               "
      ]
     },
     "execution_count": 9,
     "metadata": {},
     "output_type": "execute_result"
    }
   ],
   "source": [
    "data.tail()"
   ]
  },
  {
   "cell_type": "code",
   "execution_count": 10,
   "id": "f6804aa8",
   "metadata": {},
   "outputs": [
    {
     "data": {
      "application/vnd.plotly.v1+json": {
       "config": {
        "plotlyServerURL": "https://plot.ly"
       },
       "data": [
        {
         "mode": "lines",
         "name": "tournament",
         "type": "scatter",
         "x": {
          "bdata": "AAECAwQFBgcICQoLDA0ODxAREhMUFRYXGBkaGxwdHh8gISIjJCUmJygpKissLS4vMDEyMzQ1Njc4OTo7PD0+P0BBQkNERUZHSElKS0xNTk9QUVJTVFVWV1hZWltcXV5fYGFiYw==",
          "dtype": "i1"
         },
         "y": {
          "bdata": "mYjqaKsa6D/3SNjN+w7pP64sFv7Z3ek/1pI9JzM/6j8nZ9oefnLqP9zRzCeiCOs/U4woL0tM6z+cadayH27rP5Zk7BEmEuw/xj1x+tBH7D/3Fvbie33sPwAX9uJ7few/Chf24nt97D9ryf+z0ejsP2vJ/7PR6Ow/a8n/s9Ho7D9ryf+z0ejsP2vJ/7PR6Ow/a8n/s9Ho7D9ryf+z0ejsP2vJ/7PR6Ow/a8n/s9Ho7D9ryf+z0ejsPyjQrGLpP+0/5NZZEQGX7T/k1lkRAZftP6LdBsAY7u0/ot0GwBju7T+i3QbAGO7tP6LdBsAY7u0/ot0GwBju7T+i3QbAGO7tP6LdBsAY7u0/ot0GwBju7T9e5LNuMEXuP17ks24wRe4/XuSzbjBF7j9e5LNuMEXuP17ks24wRe4/XuSzbjBF7j9e5LNuMEXuP17ks24wRe4/XuSzbjBF7j9e5LNuMEXuP17ks24wRe4/XuSzbjBF7j9e5LNuMEXuP17ks24wRe4/XuSzbjBF7j9e5LNuMEXuP17ks24wRe4/XuSzbjBF7j9e5LNuMEXuP17ks24wRe4/XuSzbjBF7j9e5LNuMEXuP17ks24wRe4/XuSzbjBF7j9e5LNuMEXuP17ks24wRe4/XuSzbjBF7j9e5LNuMEXuP17ks24wRe4/XuSzbjBF7j9e5LNuMEXuP17ks24wRe4/XuSzbjBF7j9e5LNuMEXuP17ks24wRe4/XuSzbjBF7j9e5LNuMEXuP17ks24wRe4/XuSzbjBF7j9e5LNuMEXuP17ks24wRe4/XuSzbjBF7j9e5LNuMEXuP17ks24wRe4/XuSzbjBF7j9e5LNuMEXuP17ks24wRe4/XuSzbjBF7j9e5LNuMEXuP17ks24wRe4/XuSzbjBF7j9e5LNuMEXuP17ks24wRe4/XuSzbjBF7j9e5LNuMEXuP17ks24wRe4/XuSzbjBF7j9e5LNuMEXuP17ks24wRe4/XuSzbjBF7j9e5LNuMEXuP17ks24wRe4/XuSzbjBF7j9e5LNuMEXuP17ks24wRe4/XuSzbjBF7j8=",
          "dtype": "f8"
         }
        },
        {
         "mode": "lines",
         "name": "fitness_proportionate",
         "type": "scatter",
         "x": {
          "bdata": "AAECAwQFBgcICQoLDA0ODxAREhMUFRYXGBkaGxwdHh8gISIjJCUmJygpKissLS4vMDEyMzQ1Njc4OTo7PD0+P0BBQkNERUZHSElKS0xNTk9QUVJTVFVWV1hZWltcXV5fYGFiYw==",
          "dtype": "i1"
         },
         "y": {
          "bdata": "lSY0UfsL6D+3G26ST+voP+PtHW59Nek/zONQ5dLG6T+cddsW4fTpP4i+oC/oC+o/G2faHn5y6j8dZ9oefnLqPydn2h5+cuo/IIsqZXrO6j9aaNjoTvDqP45p1rIfbus/jmnWsh9u6z+OadayH27rP5Vp1rIfbus/nGnWsh9u6z+cadayH27rP5xp1rIfbus/nGnWsh9u6z9S6JtKIZfrP83lJnok6es/g2TsESYS7D++PXH60EfsP8c9cfrQR+w/0D1x+tBH7D8KF/bie33sPwoX9uJ7few/a8n/s9Ho7D9ryf+z0ejsP2vJ/7PR6Ow/a8n/s9Ho7D9ryf+z0ejsP2vJ/7PR6Ow/a8n/s9Ho7D9ryf+z0ejsP2vJ/7PR6Ow/a8n/s9Ho7D9ryf+z0ejsP2vJ/7PR6Ow/a8n/s9Ho7D9ryf+z0ejsP2vJ/7PR6Ow/a8n/s9Ho7D9ryf+z0ejsP2vJ/7PR6Ow/a8n/s9Ho7D9ryf+z0ejsP2vJ/7PR6Ow/a8n/s9Ho7D9ryf+z0ejsP2vJ/7PR6Ow/a8n/s9Ho7D9ryf+z0ejsP2vJ/7PR6Ow/a8n/s9Ho7D9ryf+z0ejsP2vJ/7PR6Ow/a8n/s9Ho7D9ryf+z0ejsP2vJ/7PR6Ow/a8n/s9Ho7D9ryf+z0ejsP2vJ/7PR6Ow/a8n/s9Ho7D9ryf+z0ejsP2vJ/7PR6Ow/a8n/s9Ho7D9ryf+z0ejsP2vJ/7PR6Ow/a8n/s9Ho7D9ryf+z0ejsP2vJ/7PR6Ow/a8n/s9Ho7D9ryf+z0ejsP2vJ/7PR6Ow/a8n/s9Ho7D9ryf+z0ejsP2vJ/7PR6Ow/a8n/s9Ho7D/k1lkRAZftP+TWWREBl+0/5NZZEQGX7T/k1lkRAZftP+TWWREBl+0/5NZZEQGX7T/k1lkRAZftP+TWWREBl+0/5NZZEQGX7T/k1lkRAZftP+TWWREBl+0/5NZZEQGX7T/k1lkRAZftP+TWWREBl+0/5NZZEQGX7T/k1lkRAZftP17ks24wRe4/XuSzbjBF7j9e5LNuMEXuP17ks24wRe4/XuSzbjBF7j8=",
          "dtype": "f8"
         }
        }
       ],
       "layout": {
        "height": 500,
        "legend": {
         "title": {
          "text": "Selection Method"
         }
        },
        "template": {
         "data": {
          "bar": [
           {
            "error_x": {
             "color": "#2a3f5f"
            },
            "error_y": {
             "color": "#2a3f5f"
            },
            "marker": {
             "line": {
              "color": "#E5ECF6",
              "width": 0.5
             },
             "pattern": {
              "fillmode": "overlay",
              "size": 10,
              "solidity": 0.2
             }
            },
            "type": "bar"
           }
          ],
          "barpolar": [
           {
            "marker": {
             "line": {
              "color": "#E5ECF6",
              "width": 0.5
             },
             "pattern": {
              "fillmode": "overlay",
              "size": 10,
              "solidity": 0.2
             }
            },
            "type": "barpolar"
           }
          ],
          "carpet": [
           {
            "aaxis": {
             "endlinecolor": "#2a3f5f",
             "gridcolor": "white",
             "linecolor": "white",
             "minorgridcolor": "white",
             "startlinecolor": "#2a3f5f"
            },
            "baxis": {
             "endlinecolor": "#2a3f5f",
             "gridcolor": "white",
             "linecolor": "white",
             "minorgridcolor": "white",
             "startlinecolor": "#2a3f5f"
            },
            "type": "carpet"
           }
          ],
          "choropleth": [
           {
            "colorbar": {
             "outlinewidth": 0,
             "ticks": ""
            },
            "type": "choropleth"
           }
          ],
          "contour": [
           {
            "colorbar": {
             "outlinewidth": 0,
             "ticks": ""
            },
            "colorscale": [
             [
              0,
              "#0d0887"
             ],
             [
              0.1111111111111111,
              "#46039f"
             ],
             [
              0.2222222222222222,
              "#7201a8"
             ],
             [
              0.3333333333333333,
              "#9c179e"
             ],
             [
              0.4444444444444444,
              "#bd3786"
             ],
             [
              0.5555555555555556,
              "#d8576b"
             ],
             [
              0.6666666666666666,
              "#ed7953"
             ],
             [
              0.7777777777777778,
              "#fb9f3a"
             ],
             [
              0.8888888888888888,
              "#fdca26"
             ],
             [
              1,
              "#f0f921"
             ]
            ],
            "type": "contour"
           }
          ],
          "contourcarpet": [
           {
            "colorbar": {
             "outlinewidth": 0,
             "ticks": ""
            },
            "type": "contourcarpet"
           }
          ],
          "heatmap": [
           {
            "colorbar": {
             "outlinewidth": 0,
             "ticks": ""
            },
            "colorscale": [
             [
              0,
              "#0d0887"
             ],
             [
              0.1111111111111111,
              "#46039f"
             ],
             [
              0.2222222222222222,
              "#7201a8"
             ],
             [
              0.3333333333333333,
              "#9c179e"
             ],
             [
              0.4444444444444444,
              "#bd3786"
             ],
             [
              0.5555555555555556,
              "#d8576b"
             ],
             [
              0.6666666666666666,
              "#ed7953"
             ],
             [
              0.7777777777777778,
              "#fb9f3a"
             ],
             [
              0.8888888888888888,
              "#fdca26"
             ],
             [
              1,
              "#f0f921"
             ]
            ],
            "type": "heatmap"
           }
          ],
          "histogram": [
           {
            "marker": {
             "pattern": {
              "fillmode": "overlay",
              "size": 10,
              "solidity": 0.2
             }
            },
            "type": "histogram"
           }
          ],
          "histogram2d": [
           {
            "colorbar": {
             "outlinewidth": 0,
             "ticks": ""
            },
            "colorscale": [
             [
              0,
              "#0d0887"
             ],
             [
              0.1111111111111111,
              "#46039f"
             ],
             [
              0.2222222222222222,
              "#7201a8"
             ],
             [
              0.3333333333333333,
              "#9c179e"
             ],
             [
              0.4444444444444444,
              "#bd3786"
             ],
             [
              0.5555555555555556,
              "#d8576b"
             ],
             [
              0.6666666666666666,
              "#ed7953"
             ],
             [
              0.7777777777777778,
              "#fb9f3a"
             ],
             [
              0.8888888888888888,
              "#fdca26"
             ],
             [
              1,
              "#f0f921"
             ]
            ],
            "type": "histogram2d"
           }
          ],
          "histogram2dcontour": [
           {
            "colorbar": {
             "outlinewidth": 0,
             "ticks": ""
            },
            "colorscale": [
             [
              0,
              "#0d0887"
             ],
             [
              0.1111111111111111,
              "#46039f"
             ],
             [
              0.2222222222222222,
              "#7201a8"
             ],
             [
              0.3333333333333333,
              "#9c179e"
             ],
             [
              0.4444444444444444,
              "#bd3786"
             ],
             [
              0.5555555555555556,
              "#d8576b"
             ],
             [
              0.6666666666666666,
              "#ed7953"
             ],
             [
              0.7777777777777778,
              "#fb9f3a"
             ],
             [
              0.8888888888888888,
              "#fdca26"
             ],
             [
              1,
              "#f0f921"
             ]
            ],
            "type": "histogram2dcontour"
           }
          ],
          "mesh3d": [
           {
            "colorbar": {
             "outlinewidth": 0,
             "ticks": ""
            },
            "type": "mesh3d"
           }
          ],
          "parcoords": [
           {
            "line": {
             "colorbar": {
              "outlinewidth": 0,
              "ticks": ""
             }
            },
            "type": "parcoords"
           }
          ],
          "pie": [
           {
            "automargin": true,
            "type": "pie"
           }
          ],
          "scatter": [
           {
            "fillpattern": {
             "fillmode": "overlay",
             "size": 10,
             "solidity": 0.2
            },
            "type": "scatter"
           }
          ],
          "scatter3d": [
           {
            "line": {
             "colorbar": {
              "outlinewidth": 0,
              "ticks": ""
             }
            },
            "marker": {
             "colorbar": {
              "outlinewidth": 0,
              "ticks": ""
             }
            },
            "type": "scatter3d"
           }
          ],
          "scattercarpet": [
           {
            "marker": {
             "colorbar": {
              "outlinewidth": 0,
              "ticks": ""
             }
            },
            "type": "scattercarpet"
           }
          ],
          "scattergeo": [
           {
            "marker": {
             "colorbar": {
              "outlinewidth": 0,
              "ticks": ""
             }
            },
            "type": "scattergeo"
           }
          ],
          "scattergl": [
           {
            "marker": {
             "colorbar": {
              "outlinewidth": 0,
              "ticks": ""
             }
            },
            "type": "scattergl"
           }
          ],
          "scattermap": [
           {
            "marker": {
             "colorbar": {
              "outlinewidth": 0,
              "ticks": ""
             }
            },
            "type": "scattermap"
           }
          ],
          "scattermapbox": [
           {
            "marker": {
             "colorbar": {
              "outlinewidth": 0,
              "ticks": ""
             }
            },
            "type": "scattermapbox"
           }
          ],
          "scatterpolar": [
           {
            "marker": {
             "colorbar": {
              "outlinewidth": 0,
              "ticks": ""
             }
            },
            "type": "scatterpolar"
           }
          ],
          "scatterpolargl": [
           {
            "marker": {
             "colorbar": {
              "outlinewidth": 0,
              "ticks": ""
             }
            },
            "type": "scatterpolargl"
           }
          ],
          "scatterternary": [
           {
            "marker": {
             "colorbar": {
              "outlinewidth": 0,
              "ticks": ""
             }
            },
            "type": "scatterternary"
           }
          ],
          "surface": [
           {
            "colorbar": {
             "outlinewidth": 0,
             "ticks": ""
            },
            "colorscale": [
             [
              0,
              "#0d0887"
             ],
             [
              0.1111111111111111,
              "#46039f"
             ],
             [
              0.2222222222222222,
              "#7201a8"
             ],
             [
              0.3333333333333333,
              "#9c179e"
             ],
             [
              0.4444444444444444,
              "#bd3786"
             ],
             [
              0.5555555555555556,
              "#d8576b"
             ],
             [
              0.6666666666666666,
              "#ed7953"
             ],
             [
              0.7777777777777778,
              "#fb9f3a"
             ],
             [
              0.8888888888888888,
              "#fdca26"
             ],
             [
              1,
              "#f0f921"
             ]
            ],
            "type": "surface"
           }
          ],
          "table": [
           {
            "cells": {
             "fill": {
              "color": "#EBF0F8"
             },
             "line": {
              "color": "white"
             }
            },
            "header": {
             "fill": {
              "color": "#C8D4E3"
             },
             "line": {
              "color": "white"
             }
            },
            "type": "table"
           }
          ]
         },
         "layout": {
          "annotationdefaults": {
           "arrowcolor": "#2a3f5f",
           "arrowhead": 0,
           "arrowwidth": 1
          },
          "autotypenumbers": "strict",
          "coloraxis": {
           "colorbar": {
            "outlinewidth": 0,
            "ticks": ""
           }
          },
          "colorscale": {
           "diverging": [
            [
             0,
             "#8e0152"
            ],
            [
             0.1,
             "#c51b7d"
            ],
            [
             0.2,
             "#de77ae"
            ],
            [
             0.3,
             "#f1b6da"
            ],
            [
             0.4,
             "#fde0ef"
            ],
            [
             0.5,
             "#f7f7f7"
            ],
            [
             0.6,
             "#e6f5d0"
            ],
            [
             0.7,
             "#b8e186"
            ],
            [
             0.8,
             "#7fbc41"
            ],
            [
             0.9,
             "#4d9221"
            ],
            [
             1,
             "#276419"
            ]
           ],
           "sequential": [
            [
             0,
             "#0d0887"
            ],
            [
             0.1111111111111111,
             "#46039f"
            ],
            [
             0.2222222222222222,
             "#7201a8"
            ],
            [
             0.3333333333333333,
             "#9c179e"
            ],
            [
             0.4444444444444444,
             "#bd3786"
            ],
            [
             0.5555555555555556,
             "#d8576b"
            ],
            [
             0.6666666666666666,
             "#ed7953"
            ],
            [
             0.7777777777777778,
             "#fb9f3a"
            ],
            [
             0.8888888888888888,
             "#fdca26"
            ],
            [
             1,
             "#f0f921"
            ]
           ],
           "sequentialminus": [
            [
             0,
             "#0d0887"
            ],
            [
             0.1111111111111111,
             "#46039f"
            ],
            [
             0.2222222222222222,
             "#7201a8"
            ],
            [
             0.3333333333333333,
             "#9c179e"
            ],
            [
             0.4444444444444444,
             "#bd3786"
            ],
            [
             0.5555555555555556,
             "#d8576b"
            ],
            [
             0.6666666666666666,
             "#ed7953"
            ],
            [
             0.7777777777777778,
             "#fb9f3a"
            ],
            [
             0.8888888888888888,
             "#fdca26"
            ],
            [
             1,
             "#f0f921"
            ]
           ]
          },
          "colorway": [
           "#636efa",
           "#EF553B",
           "#00cc96",
           "#ab63fa",
           "#FFA15A",
           "#19d3f3",
           "#FF6692",
           "#B6E880",
           "#FF97FF",
           "#FECB52"
          ],
          "font": {
           "color": "#2a3f5f"
          },
          "geo": {
           "bgcolor": "white",
           "lakecolor": "white",
           "landcolor": "#E5ECF6",
           "showlakes": true,
           "showland": true,
           "subunitcolor": "white"
          },
          "hoverlabel": {
           "align": "left"
          },
          "hovermode": "closest",
          "mapbox": {
           "style": "light"
          },
          "paper_bgcolor": "white",
          "plot_bgcolor": "#E5ECF6",
          "polar": {
           "angularaxis": {
            "gridcolor": "white",
            "linecolor": "white",
            "ticks": ""
           },
           "bgcolor": "#E5ECF6",
           "radialaxis": {
            "gridcolor": "white",
            "linecolor": "white",
            "ticks": ""
           }
          },
          "scene": {
           "xaxis": {
            "backgroundcolor": "#E5ECF6",
            "gridcolor": "white",
            "gridwidth": 2,
            "linecolor": "white",
            "showbackground": true,
            "ticks": "",
            "zerolinecolor": "white"
           },
           "yaxis": {
            "backgroundcolor": "#E5ECF6",
            "gridcolor": "white",
            "gridwidth": 2,
            "linecolor": "white",
            "showbackground": true,
            "ticks": "",
            "zerolinecolor": "white"
           },
           "zaxis": {
            "backgroundcolor": "#E5ECF6",
            "gridcolor": "white",
            "gridwidth": 2,
            "linecolor": "white",
            "showbackground": true,
            "ticks": "",
            "zerolinecolor": "white"
           }
          },
          "shapedefaults": {
           "line": {
            "color": "#2a3f5f"
           }
          },
          "ternary": {
           "aaxis": {
            "gridcolor": "white",
            "linecolor": "white",
            "ticks": ""
           },
           "baxis": {
            "gridcolor": "white",
            "linecolor": "white",
            "ticks": ""
           },
           "bgcolor": "#E5ECF6",
           "caxis": {
            "gridcolor": "white",
            "linecolor": "white",
            "ticks": ""
           }
          },
          "title": {
           "x": 0.05
          },
          "xaxis": {
           "automargin": true,
           "gridcolor": "white",
           "linecolor": "white",
           "ticks": "",
           "title": {
            "standoff": 15
           },
           "zerolinecolor": "white",
           "zerolinewidth": 2
          },
          "yaxis": {
           "automargin": true,
           "gridcolor": "white",
           "linecolor": "white",
           "ticks": "",
           "title": {
            "standoff": 15
           },
           "zerolinecolor": "white",
           "zerolinewidth": 2
          }
         }
        },
        "title": {
         "text": "Comparison of Selection Methods"
        },
        "width": 900,
        "xaxis": {
         "title": {
          "text": "Generation"
         }
        },
        "yaxis": {
         "title": {
          "text": "Fitness"
         }
        }
       }
      }
     },
     "metadata": {},
     "output_type": "display_data"
    }
   ],
   "source": [
    "selection_results = {}\n",
    "\n",
    "for col in data.columns:\n",
    "    selection_method = col.split(\"|\")[0]  # tournament ou fitness_proportionate\n",
    "    if selection_method not in selection_results:\n",
    "        selection_results[selection_method] = []\n",
    "    selection_results[selection_method].append(data[col])\n",
    "\n",
    "# calculate median by generation for each method \n",
    "selection_avg_df = pd.DataFrame({\n",
    "    method: pd.concat(columns, axis=1).median(axis=1)\n",
    "    for method, columns in selection_results.items()\n",
    "})\n",
    "\n",
    "fig = go.Figure()\n",
    "for method in selection_avg_df.columns:\n",
    "    fig.add_trace(go.Scatter(\n",
    "        x=selection_avg_df.index,\n",
    "        y=selection_avg_df[method],\n",
    "        mode='lines',\n",
    "        name=method\n",
    "    ))\n",
    "\n",
    "fig.update_layout(\n",
    "    title=\"Comparison of Selection Methods\",\n",
    "    xaxis_title=\"Generation\",\n",
    "    yaxis_title=\"Fitness\",\n",
    "    legend_title=\"Selection Method\",\n",
    "    width=900,\n",
    "    height=500\n",
    ")\n",
    "\n",
    "fig.show()\n"
   ]
  },
  {
   "cell_type": "markdown",
   "id": "bfc2ef83",
   "metadata": {},
   "source": [
    "Moving forward we will use the tournament method to evaluate the best combination of crossover and mutation"
   ]
  }
 ],
 "metadata": {
  "kernelspec": {
   "display_name": "dl",
   "language": "python",
   "name": "python3"
  },
  "language_info": {
   "codemirror_mode": {
    "name": "ipython",
    "version": 3
   },
   "file_extension": ".py",
   "mimetype": "text/x-python",
   "name": "python",
   "nbconvert_exporter": "python",
   "pygments_lexer": "ipython3",
   "version": "3.12.9"
  }
 },
 "nbformat": 4,
 "nbformat_minor": 5
}
